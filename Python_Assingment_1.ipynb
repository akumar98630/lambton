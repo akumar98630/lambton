{
  "nbformat": 4,
  "nbformat_minor": 0,
  "metadata": {
    "colab": {
      "provenance": []
    },
    "kernelspec": {
      "name": "python3",
      "display_name": "Python 3"
    },
    "language_info": {
      "name": "python"
    }
  },
  "cells": [
    {
      "cell_type": "markdown",
      "source": [
        "Question 1: The Road Trip Planner\n",
        "Given:\n",
        "Fuel efficiency = 11.5 km/l\n",
        "\n",
        "\n",
        "Total trip distance = 475 km\n",
        "\n",
        "\n",
        "Fuel price = $1.65/l\n",
        "\n",
        "\n",
        "Tank capacity = 50 liters\n",
        "\n",
        "\n",
        "You start with a full tank\n"
      ],
      "metadata": {
        "id": "89zEVK1R9Cje"
      }
    },
    {
      "cell_type": "code",
      "execution_count": 4,
      "metadata": {
        "id": "eik257esaT21",
        "colab": {
          "base_uri": "https://localhost:8080/"
        },
        "outputId": "fe8ef839-6bba-454c-a1da-10d9103e62e8"
      },
      "outputs": [
        {
          "output_type": "stream",
          "name": "stdout",
          "text": [
            "Fuel needed: 41.30 liters\n"
          ]
        }
      ],
      "source": [
        "#a\n",
        "d = 475  # in km\n",
        "f_efficiency = 11.5  # in km per liter\n",
        "\n",
        "f_needed = d / f_efficiency\n",
        "print(f\"Fuel needed: {f_needed:.2f} liters\")"
      ]
    },
    {
      "cell_type": "markdown",
      "source": [
        "a. I divide the total distance by the car's fuel efficiency to calculate the total fuel required for trip.\n",
        "475 / 11.5 = 41.30 liters. So, the car will need 41.3 liters of fuel to cover 475 kilometers.\n"
      ],
      "metadata": {
        "id": "koo8EdnQ9eiL"
      }
    },
    {
      "cell_type": "code",
      "source": [
        "#b\n",
        "t_capacity = 50  # in liters\n",
        "\n",
        "full_tanks = f_needed // t_capacity\n",
        "print(f\"Full tanks required: {int(full_tanks)}\")"
      ],
      "metadata": {
        "colab": {
          "base_uri": "https://localhost:8080/"
        },
        "id": "JMs2Zi8suQ_y",
        "outputId": "0ce2ebaf-a82a-4c38-d47b-72b8d0b81b4a"
      },
      "execution_count": 5,
      "outputs": [
        {
          "output_type": "stream",
          "name": "stdout",
          "text": [
            "Full tanks required: 0\n"
          ]
        }
      ]
    },
    {
      "cell_type": "markdown",
      "source": [
        "b. I used the floor division operator // to find how many whole full tanks are required.\n",
        "41.3 // 50 = 0.0 → This means less than one full tank is needed. So, only part of the full tank will be used.\n"
      ],
      "metadata": {
        "id": "DZk2R6W49kXe"
      }
    },
    {
      "cell_type": "code",
      "source": [
        "#c\n",
        "f_price = 1.65  #  per liter\n",
        "\n",
        "total_cost = f_needed * f_price\n",
        "print(f\"Total fuel cost: ${total_cost:.2f}\")"
      ],
      "metadata": {
        "colab": {
          "base_uri": "https://localhost:8080/"
        },
        "id": "WQsNT-YwvTb_",
        "outputId": "bbc93954-3379-4c88-ed3d-f2dd8963225b"
      },
      "execution_count": 6,
      "outputs": [
        {
          "output_type": "stream",
          "name": "stdout",
          "text": [
            "Total fuel cost: $68.15\n"
          ]
        }
      ]
    },
    {
      "cell_type": "markdown",
      "source": [
        "c. To get the cost, multiply the amount of fuel needed by the price per liter. 41.3 * 1.65 = $68.145, rounded to $68.15\n"
      ],
      "metadata": {
        "id": "7RFZHWKe9qV4"
      }
    },
    {
      "cell_type": "code",
      "source": [
        "#d\n",
        "fuel_remaining = t_capacity - f_needed\n",
        "print(f\"Fuel remaining after trip: {fuel_remaining:.2f} liters\")"
      ],
      "metadata": {
        "colab": {
          "base_uri": "https://localhost:8080/"
        },
        "id": "qLaYpXrOv9Or",
        "outputId": "1c32aca1-ebb8-4c56-f724-103d408041a3"
      },
      "execution_count": 7,
      "outputs": [
        {
          "output_type": "stream",
          "name": "stdout",
          "text": [
            "Fuel remaining after trip: 8.70 liters\n"
          ]
        }
      ]
    },
    {
      "cell_type": "markdown",
      "source": [
        "d. If I started with a full tank (50 liters) and only needed 41.3 liters for\n",
        "the trip, the fuel left after the  trip would be: 50 - 41.3 = 8.7 liters.\n",
        "\n",
        "\n",
        "---\n",
        "\n",
        "\n"
      ],
      "metadata": {
        "id": "CrBtDa7S9wHi"
      }
    },
    {
      "cell_type": "markdown",
      "source": [
        "Question 2: Theme Park Entry Rules\n",
        "A person gets a discount if any ONE of these is true:\n",
        "\n",
        "Child (≤12 years old) AND it's a weekday\n",
        "\n",
        "Senior (≥65 years old)\n",
        "\n",
        "It's Family Day AND group size ≥ 4"
      ],
      "metadata": {
        "id": "NFxqxf_y93yb"
      }
    },
    {
      "cell_type": "code",
      "source": [
        "#a\n",
        "age = 30\n",
        "is_weekday = True\n",
        "is_family_day = False\n",
        "group_size = 3\n",
        "\n",
        "discount = (age <= 12 and is_weekday) or (age >= 65) or (is_family_day and group_size >= 4)\n",
        "discount"
      ],
      "metadata": {
        "colab": {
          "base_uri": "https://localhost:8080/"
        },
        "id": "qnHBUDO84bwZ",
        "outputId": "b7861f2b-d2e2-4cbe-f15f-66e140861667"
      },
      "execution_count": 8,
      "outputs": [
        {
          "output_type": "execute_result",
          "data": {
            "text/plain": [
              "False"
            ]
          },
          "metadata": {},
          "execution_count": 8
        }
      ]
    },
    {
      "cell_type": "markdown",
      "source": [
        "a. No condition is satisfied with the given conditions."
      ],
      "metadata": {
        "id": "xx04MLNDA2n-"
      }
    },
    {
      "cell_type": "code",
      "source": [
        "#b\n",
        "age = 10\n",
        "is_weekday = True\n",
        "is_family_day = False\n",
        "group_size = 2\n",
        "\n",
        "discount = (age <= 12 and is_weekday) or (age >= 65) or (is_family_day and group_size >= 4)"
      ],
      "metadata": {
        "id": "sSw6w7WWBDGa"
      },
      "execution_count": 9,
      "outputs": []
    },
    {
      "cell_type": "markdown",
      "source": [
        "b. Age ≤ 12 and it's a weekday."
      ],
      "metadata": {
        "id": "CZhDD3XsBnIA"
      }
    },
    {
      "cell_type": "markdown",
      "source": [
        "c.\n",
        "age <= 12 → True\n",
        "\n",
        "is_weekday → True\n",
        "\n",
        "First part: True and True → True\n",
        "\n",
        "Rest not checked due to or short-circuit\n",
        "\n",
        "Final result: True\n",
        "\n",
        "\n",
        "---\n",
        "\n"
      ],
      "metadata": {
        "id": "kIhVHpfJBxpC"
      }
    },
    {
      "cell_type": "markdown",
      "source": [
        "Question 3: Message Decoder\n",
        "You are given the following secret message encoded in a Python string:\n",
        "secret_message = \"PyThoN_Is_FuN_AnD_PoWeRfUl!\"\n"
      ],
      "metadata": {
        "id": "8FG9Wnz5DEMv"
      }
    },
    {
      "cell_type": "code",
      "source": [
        "secret_message = \"PyThoN_Is_FuN_AnD_PoWeRfUl!\"\n"
      ],
      "metadata": {
        "id": "zyvBUYzUFQZU"
      },
      "execution_count": 10,
      "outputs": []
    },
    {
      "cell_type": "code",
      "source": [
        "#a Index 5\n",
        "secret_message[5]"
      ],
      "metadata": {
        "colab": {
          "base_uri": "https://localhost:8080/",
          "height": 36
        },
        "id": "xm6tj71KFW5y",
        "outputId": "94804b5a-32fc-47cf-9452-c36b70da4e52"
      },
      "execution_count": 11,
      "outputs": [
        {
          "output_type": "execute_result",
          "data": {
            "text/plain": [
              "'N'"
            ],
            "application/vnd.google.colaboratory.intrinsic+json": {
              "type": "string"
            }
          },
          "metadata": {},
          "execution_count": 11
        }
      ]
    },
    {
      "cell_type": "markdown",
      "source": [
        "a. As the index starts from zero the 5th index is 'N'"
      ],
      "metadata": {
        "id": "Rph_rDkNFhHQ"
      }
    },
    {
      "cell_type": "code",
      "source": [
        "#b Slice \"Is_FuN\"\n",
        "secret_message[7:13]"
      ],
      "metadata": {
        "colab": {
          "base_uri": "https://localhost:8080/",
          "height": 36
        },
        "id": "L97dAKU-FpzS",
        "outputId": "37322aa5-7d12-4d03-f90d-73197000d0e3"
      },
      "execution_count": 12,
      "outputs": [
        {
          "output_type": "execute_result",
          "data": {
            "text/plain": [
              "'Is_FuN'"
            ],
            "application/vnd.google.colaboratory.intrinsic+json": {
              "type": "string"
            }
          },
          "metadata": {},
          "execution_count": 12
        }
      ]
    },
    {
      "cell_type": "code",
      "source": [
        "#c Slice \"PoWeRfUl\" using negative indexing\n",
        "secret_message[-9:-1]"
      ],
      "metadata": {
        "colab": {
          "base_uri": "https://localhost:8080/",
          "height": 36
        },
        "id": "rsp9_Va7GINV",
        "outputId": "078b2458-588d-40d7-fd15-a6e86ab3390f"
      },
      "execution_count": 13,
      "outputs": [
        {
          "output_type": "execute_result",
          "data": {
            "text/plain": [
              "'PoWeRfUl'"
            ],
            "application/vnd.google.colaboratory.intrinsic+json": {
              "type": "string"
            }
          },
          "metadata": {},
          "execution_count": 13
        }
      ]
    },
    {
      "cell_type": "code",
      "source": [
        "#d Every 4th character\n",
        "secret_message[::4]"
      ],
      "metadata": {
        "colab": {
          "base_uri": "https://localhost:8080/",
          "height": 36
        },
        "id": "amD_0T0uGpZ1",
        "outputId": "7653cc71-7942-4487-b3e2-889bc09665e2"
      },
      "execution_count": 22,
      "outputs": [
        {
          "output_type": "execute_result",
          "data": {
            "text/plain": [
              "'PosNDWU'"
            ],
            "application/vnd.google.colaboratory.intrinsic+json": {
              "type": "string"
            }
          },
          "metadata": {},
          "execution_count": 22
        }
      ]
    },
    {
      "cell_type": "code",
      "source": [
        "#e\n",
        "# secret_message[50]"
      ],
      "metadata": {
        "id": "BsMSPjoZqsjF"
      },
      "execution_count": 14,
      "outputs": []
    },
    {
      "cell_type": "markdown",
      "source": [
        "e. Index 50 is beyond the string's length, so Python throws an IndexError."
      ],
      "metadata": {
        "id": "UgrjeIeHITfz"
      }
    },
    {
      "cell_type": "markdown",
      "source": [
        "\n",
        "\n",
        "---\n",
        "\n"
      ],
      "metadata": {
        "id": "iZe-BDqYJ4Q2"
      }
    },
    {
      "cell_type": "markdown",
      "source": [
        "Section 4: Boolean Values & Expressions\n",
        "(x == z) and (y > x) = True,\n",
        "(x != z) or (y < x) or (len(text) < 5) = False,\n",
        "not ((x > y) and (text == \"Adventure\")) = True"
      ],
      "metadata": {
        "id": "Y7ypFKMiJ6NS"
      }
    },
    {
      "cell_type": "code",
      "source": [
        "x = 15\n",
        "y = 25\n",
        "z = 15\n",
        "text = \"adventure\"\n",
        "print((x == z) and (y > x))\n",
        "print((x != z) or (y < x) or (len(text) < 5))\n",
        "print(not ((x > y) and (text == \"Adventure\")))"
      ],
      "metadata": {
        "colab": {
          "base_uri": "https://localhost:8080/"
        },
        "id": "HHNe07GSoo_X",
        "outputId": "b70336e5-bacb-46a9-e2d7-07184c7451ad"
      },
      "execution_count": 15,
      "outputs": [
        {
          "output_type": "stream",
          "name": "stdout",
          "text": [
            "True\n",
            "False\n",
            "True\n"
          ]
        }
      ]
    },
    {
      "cell_type": "markdown",
      "source": [
        "EXPLANATION:\n",
        "True and True = True,\n",
        "False or False or False = False,\n",
        "not (False and False) = not False = True\n",
        "\n",
        "> Add blockquote\n",
        "\n"
      ],
      "metadata": {
        "id": "BqzDQtNJpFM8"
      }
    },
    {
      "cell_type": "markdown",
      "source": [
        "Section 5: String Properties & Methods\n"
      ],
      "metadata": {
        "id": "8VLCTj_9pZyg"
      }
    },
    {
      "cell_type": "code",
      "source": [
        "#a\n",
        "username = \"MyUser123\"\n",
        "username[0] = 'm'"
      ],
      "metadata": {
        "id": "7nBEn66Dr8Tn"
      },
      "execution_count": null,
      "outputs": []
    },
    {
      "cell_type": "markdown",
      "source": [
        "a. strings are immutable"
      ],
      "metadata": {
        "id": "ejkd4_fb4G1x"
      }
    },
    {
      "cell_type": "code",
      "source": [
        "#b.\n",
        "quote = \" practice makes perfect \"\n",
        "formatted_quote = quote.strip().upper().replace(\"PERFECT\", \"PROGRESS\")\n",
        "formatted_quote"
      ],
      "metadata": {
        "colab": {
          "base_uri": "https://localhost:8080/",
          "height": 36
        },
        "id": "KFW_W3On4NYk",
        "outputId": "9c834edc-9f4e-4d98-cad3-fe5001a78c4b"
      },
      "execution_count": 16,
      "outputs": [
        {
          "output_type": "execute_result",
          "data": {
            "text/plain": [
              "'PRACTICE MAKES PROGRESS'"
            ],
            "application/vnd.google.colaboratory.intrinsic+json": {
              "type": "string"
            }
          },
          "metadata": {},
          "execution_count": 16
        }
      ]
    },
    {
      "cell_type": "markdown",
      "source": [
        "strip() removes spaces,\n",
        "upper() converts to uppercase,\n",
        "replace() swaps PERFECT for PROGRESS"
      ],
      "metadata": {
        "id": "iP1s5iMc4qMk"
      }
    },
    {
      "cell_type": "code",
      "source": [
        "#c.\n",
        "len_original = len(quote)          # 25\n",
        "len_formatted = len(formatted_quote)  # 24\n",
        "print(len_original, len_formatted)"
      ],
      "metadata": {
        "colab": {
          "base_uri": "https://localhost:8080/"
        },
        "id": "SFCdmqkM4vpb",
        "outputId": "6d3e3b78-84c4-41ec-da96-b317f6476618"
      },
      "execution_count": 17,
      "outputs": [
        {
          "output_type": "stream",
          "name": "stdout",
          "text": [
            "24 23\n"
          ]
        }
      ]
    }
  ]
}